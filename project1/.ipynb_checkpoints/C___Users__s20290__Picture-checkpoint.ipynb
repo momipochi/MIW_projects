{
 "cells": [
  {
   "cell_type": "code",
   "execution_count": 22,
   "id": "17a40b5f",
   "metadata": {},
   "outputs": [
    {
     "name": "stdout",
     "output_type": "stream",
     "text": [
      "[[1.5 2. ]]\n",
      "[0 1 2 3 4 5]\n",
      "[0 1 6 3 4 5]\n"
     ]
    }
   ],
   "source": [
    "import numpy as np\n",
    "import matplotlib.pylab as plt\n",
    "\n",
    "l = [32,54,22,76,2]\n",
    "a = np.array(l)\n",
    "d = np.array(\n",
    "    [[1.5,2,3],[4,5,6]]\n",
    ")\n",
    "print(d[0:1,0:2])\n",
    "e = np.arange(6)\n",
    "\n",
    "print(e)\n",
    "e[e==2]=6\n",
    "print(e)"
   ]
  },
  {
   "cell_type": "code",
   "execution_count": 34,
   "id": "d57105cc",
   "metadata": {},
   "outputs": [
    {
     "name": "stdout",
     "output_type": "stream",
     "text": [
      "[-4.         -3.11111111 -2.22222222 -1.33333333 -0.44444444  0.44444444\n",
      "  1.33333333  2.22222222  3.11111111  4.        ]\n",
      "[[ 15.     2.75]\n",
      " [ 20.     2.6 ]\n",
      " [ 30.     2.  ]\n",
      " [ 40.     1.6 ]\n",
      " [ 50.     1.25]\n",
      " [ 60.     1.05]\n",
      " [ 70.     0.9 ]\n",
      " [ 80.     0.8 ]\n",
      " [ 90.     0.75]\n",
      " [100.     0.68]\n",
      " [110.     0.6 ]\n",
      " [120.     0.55]\n",
      " [130.     0.5 ]\n",
      " [140.     0.48]\n",
      " [150.     0.45]]\n"
     ]
    },
    {
     "data": {
      "text/plain": [
       "[<matplotlib.lines.Line2D at 0x1909a54a2e0>]"
      ]
     },
     "execution_count": 34,
     "metadata": {},
     "output_type": "execute_result"
    },
    {
     "data": {
      "image/png": "[encoded data removed]",
      "text/plain": [
       "<Figure size 432x288 with 1 Axes>"
      ]
     },
     "metadata": {
      "needs_background": "light"
     },
     "output_type": "display_data"
    }
   ],
   "source": [
    "\n",
    "x = np.linspace(-4,4,10)\n",
    "print(x)\n",
    "y=2*x**3\n",
    "plt.plot(x,y)\n",
    "\n"
   ]
  },
  {
   "cell_type": "code",
   "execution_count": 49,
   "id": "85c8edce",
   "metadata": {},
   "outputs": [
    {
     "name": "stdout",
     "output_type": "stream",
     "text": [
      "[[ 15.     2.75]\n",
      " [ 20.     2.6 ]\n",
      " [ 30.     2.  ]\n",
      " [ 40.     1.6 ]\n",
      " [ 50.     1.25]\n",
      " [ 60.     1.05]\n",
      " [ 70.     0.9 ]\n",
      " [ 80.     0.8 ]\n",
      " [ 90.     0.75]\n",
      " [100.     0.68]\n",
      " [110.     0.6 ]\n",
      " [120.     0.55]\n",
      " [130.     0.5 ]\n",
      " [140.     0.48]\n",
      " [150.     0.45]]\n",
      "[[2.75 1.  ]\n",
      " [2.6  1.  ]\n",
      " [2.   1.  ]\n",
      " [1.6  1.  ]\n",
      " [1.25 1.  ]\n",
      " [1.05 1.  ]\n",
      " [0.9  1.  ]\n",
      " [0.8  1.  ]\n",
      " [0.75 1.  ]\n",
      " [0.68 1.  ]\n",
      " [0.6  1.  ]\n",
      " [0.55 1.  ]\n",
      " [0.5  1.  ]\n",
      " [0.48 1.  ]\n",
      " [0.45 1.  ]]\n"
     ]
    },
    {
     "data": {
      "text/plain": [
       "[<matplotlib.lines.Line2D at 0x1909a81fa90>]"
      ]
     },
     "execution_count": 49,
     "metadata": {},
     "output_type": "execute_result"
    },
    {
     "data": {
      "image/png": "[encoded data removed]",
      "text/plain": [
       "<Figure size 432x288 with 1 Axes>"
      ]
     },
     "metadata": {
      "needs_background": "light"
     },
     "output_type": "display_data"
    }
   ],
   "source": [
    "a = np.loadtxt('z:/Sharp_char.txt')\n",
    "print(a)\n",
    "x = a[:,[1]]\n",
    "y = a[:,[0]]\n",
    "# print(x)\n",
    "# print(y)\n",
    "plt.plot(x,y,'r*')\n",
    "\n",
    "\n",
    "\n",
    "F = np.hstack([x,np.ones(x.shape)])\n",
    "print(F)\n",
    "F1 = np.hstack([x*x,x,np.ones(x.shape)])\n",
    "\n",
    "\n",
    "\n",
    "def linear_model(phi,v):\n",
    "    return phi*v\n",
    "def phi_squared_matrix(phi,y):\n",
    "    return np.linalg.inv(phi.T@phi)@phi.T@y\n",
    "\n",
    "# V = phi_squared_matrix(F,y)\n",
    "# plt.plot(x, V[0]*x+V[1])\n",
    "\n",
    "V1 = np.linalg.pinv(F1)@y\n",
    "plt.plot(x, V1[0]*x*x+V1[1]*x+V1[2])"
   ]
  },
  {
   "cell_type": "code",
   "execution_count": 58,
   "id": "bcd539c0",
   "metadata": {},
   "outputs": [
    {
     "name": "stdout",
     "output_type": "stream",
     "text": [
      "[[ 15.     2.75]\n",
      " [ 20.     2.6 ]\n",
      " [ 30.     2.  ]\n",
      " [ 40.     1.6 ]\n",
      " [ 50.     1.25]\n",
      " [ 60.     1.05]\n",
      " [ 70.     0.9 ]\n",
      " [ 80.     0.8 ]\n",
      " [ 90.     0.75]\n",
      " [100.     0.68]\n",
      " [110.     0.6 ]\n",
      " [120.     0.55]\n",
      " [130.     0.5 ]\n",
      " [140.     0.48]\n",
      " [150.     0.45]]\n"
     ]
    },
    {
     "data": {
      "text/plain": [
       "[<matplotlib.lines.Line2D at 0x1909c073610>]"
      ]
     },
     "execution_count": 58,
     "metadata": {},
     "output_type": "execute_result"
    },
    {
     "data": {
      "image/png": "[encoded data removed]",
      "text/plain": [
       "<Figure size 432x288 with 1 Axes>"
      ]
     },
     "metadata": {
      "needs_background": "light"
     },
     "output_type": "display_data"
    }
   ],
   "source": [
    "#y = a/x+b\n",
    "#==\n",
    "#y = a*1/x +b\n",
    "\n",
    "a = np.loadtxt('z:/Sharp_char.txt')\n",
    "print(a)\n",
    "x = a[:,[1]]\n",
    "y = a[:,[0]]\n",
    "plt.plot(x,y,'r*')\n",
    "\n",
    "F = np.hstack([1/x,np.ones(x.shape)])\n",
    "V1 = np.linalg.pinv(F)@y\n",
    "plt.plot(x, V1[0]/x+V1[1])"
   ]
  }
 ],
 "metadata": {
  "kernelspec": {
   "display_name": "Python 3",
   "language": "python",
   "name": "python3"
  },
  "language_info": {
   "codemirror_mode": {
    "name": "ipython",
    "version": 3
   },
   "file_extension": ".py",
   "mimetype": "text/x-python",
   "name": "python",
   "nbconvert_exporter": "python",
   "pygments_lexer": "ipython3",
   "version": "3.8.8"
  }
 },
 "nbformat": 4,
 "nbformat_minor": 5
}
