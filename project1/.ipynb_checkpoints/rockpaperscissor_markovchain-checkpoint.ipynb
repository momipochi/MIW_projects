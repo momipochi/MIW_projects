{
 "cells": [
  {
   "cell_type": "code",
   "execution_count": 1,
   "id": "ab39424c",
   "metadata": {},
   "outputs": [],
   "source": [
    "import numpy as np\n",
    "import time\n",
    "import matplotlib.pyplot as plt"
   ]
  },
  {
   "cell_type": "code",
   "execution_count": 2,
   "id": "4f0bff8a",
   "metadata": {},
   "outputs": [],
   "source": [
    "decisions = ['P','S','R']\n",
    "\n",
    "#probability of starting decision\n",
    "p_start = [0.1,0.2,0.7]\n",
    "\n",
    "t1 = ['P','S','R']\n",
    "p_t1 = np.array([[1,1,1],[1,1,1],[1,1,1]])\n",
    "\n",
    "\n",
    "\n",
    "\n",
    "initial = np.random.choice(decisions,replace=True, p=p_start)\n"
   ]
  },
  {
   "cell_type": "code",
   "execution_count": 3,
   "id": "37b0e720",
   "metadata": {},
   "outputs": [],
   "source": [
    "def make_choice(opponent_prediction):\n",
    "    if opponent_prediction == 'P':\n",
    "        return 'S'\n",
    "    if opponent_prediction == 'S':\n",
    "        return 'R'\n",
    "    if opponent_prediction == 'R':\n",
    "        return 'P'\n",
    "    \n",
    "def check_outcome(opt_choice,my_choice):\n",
    "    if my_choice == 'P' and opt_choice == 'P':\n",
    "        return 0\n",
    "    if my_choice == 'P' and opt_choice == 'S':\n",
    "        return -1\n",
    "    if my_choice == 'P' and opt_choice == 'R':\n",
    "        return 1\n",
    "    if my_choice == 'S' and opt_choice == 'P':\n",
    "        return 1\n",
    "    if my_choice == 'S' and opt_choice == 'S':\n",
    "        return 0\n",
    "    if my_choice == 'S' and opt_choice == 'R':\n",
    "        return -1\n",
    "    if my_choice == 'R' and opt_choice == 'P':\n",
    "        return -1\n",
    "    if my_choice == 'R' and opt_choice == 'S':\n",
    "        return 1\n",
    "    if my_choice == 'R' and opt_choice == 'R':\n",
    "        return 0\n",
    "    "
   ]
  },
  {
   "cell_type": "code",
   "execution_count": 4,
   "id": "eb55a4f5",
   "metadata": {},
   "outputs": [
    {
     "name": "stdout",
     "output_type": "stream",
     "text": [
      "Compuer scores\n",
      " Win:93\n",
      "Loss:61\n",
      "Ties:46\n",
      "Transitional matrix:\n",
      " [[ 2  6 14]\n",
      " [ 7 11 34]\n",
      " [13 35 87]]\n",
      "Opponent probability [0.1, 0.2, 0.7]\n"
     ]
    },
    {
     "data": {
      "text/plain": [
       "[<matplotlib.lines.Line2D at 0x190fa1f26b0>]"
      ]
     },
     "execution_count": 4,
     "metadata": {},
     "output_type": "execute_result"
    },
    {
     "data": {
      "image/png": "[encoded data removed]",
      "text/plain": [
       "<Figure size 432x288 with 1 Axes>"
      ]
     },
     "metadata": {
      "needs_background": "light"
     },
     "output_type": "display_data"
    }
   ],
   "source": [
    "n = 200\n",
    "\n",
    "wins = 0\n",
    "loss = 0\n",
    "ties = 0\n",
    "history = []\n",
    "opponent_choice = initial\n",
    "state = initial\n",
    "wallet = 0\n",
    "for i in range(n):\n",
    "    \n",
    "    \n",
    "    if state == 'P':\n",
    "        rowP_prob = p_t1[0,:]/sum(p_t1[0,:])\n",
    "        if opponent_choice == 'P':\n",
    "            p_t1[0,0] += 1\n",
    "        elif opponent_choice == 'S':\n",
    "            p_t1[0,1] += 1\n",
    "        elif opponent_choice == 'R':\n",
    "            p_t1[0,2] += 1\n",
    "        state = np.random.choice(t1,p=rowP_prob)\n",
    "    elif state == 'S':\n",
    "        rowS_prob = p_t1[1,:]/sum(p_t1[1,:]) \n",
    "        if opponent_choice == 'P':\n",
    "            p_t1[1,0] += 1\n",
    "        elif opponent_choice == 'S':\n",
    "            p_t1[1,1] += 1\n",
    "        elif opponent_choice == 'R':\n",
    "            p_t1[1,2] += 1\n",
    "        state = np.random.choice(t1,p=rowS_prob)\n",
    "    elif state == 'R':\n",
    "        rowR_prob = p_t1[2,:]/sum(p_t1[2,:])\n",
    "        if opponent_choice == 'P':\n",
    "            p_t1[2,0] += 1\n",
    "        elif opponent_choice == 'S':\n",
    "            p_t1[2,1] += 1\n",
    "        elif opponent_choice == 'R':\n",
    "            p_t1[2,2] += 1\n",
    "        state = np.random.choice(t1,p=rowR_prob)\n",
    "    \n",
    "    pc_choice = make_choice(state)\n",
    "    state = opponent_choice\n",
    "    outcome = check_outcome(opponent_choice,pc_choice)\n",
    "    history.append(outcome)\n",
    "    if outcome == 1:\n",
    "        wins+=1\n",
    "    elif outcome == -1:\n",
    "        loss+=1\n",
    "    elif outcome == 0:\n",
    "        ties+=1\n",
    "    wallet += outcome\n",
    "    history.append(wallet)\n",
    "#     print(f'Compuer choice: {pc_choice}, Opponent choice: {opponent_choice}')\n",
    "#     print(\"\\n\")\n",
    "    opponent_choice = np.random.choice(decisions,replace=True, p=p_start)\n",
    "    \n",
    "print(f'Compuer scores\\n Win:{wins}\\nLoss:{loss}\\nTies:{ties}')\n",
    "print(f'Transitional matrix:\\n {p_t1}')\n",
    "print(f'Opponent probability {p_start}')\n",
    "\n",
    "\n",
    "\n",
    "plt.plot(history)\n"
   ]
  },
  {
   "cell_type": "code",
   "execution_count": null,
   "id": "88828924",
   "metadata": {},
   "outputs": [],
   "source": []
  }
 ],
 "metadata": {
  "kernelspec": {
   "display_name": "Python 3 (ipykernel)",
   "language": "python",
   "name": "python3"
  },
  "language_info": {
   "codemirror_mode": {
    "name": "ipython",
    "version": 3
   },
   "file_extension": ".py",
   "mimetype": "text/x-python",
   "name": "python",
   "nbconvert_exporter": "python",
   "pygments_lexer": "ipython3",
   "version": "3.10.3"
  }
 },
 "nbformat": 4,
 "nbformat_minor": 5
}
